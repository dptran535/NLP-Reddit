{
 "cells": [
  {
   "cell_type": "code",
   "execution_count": 1,
   "id": "a671d5c9",
   "metadata": {},
   "outputs": [],
   "source": [
    "# imports\n",
    "import pandas as pd\n",
    "import numpy as np\n",
    "import matplotlib.pyplot as plt\n",
    "import seaborn as sns\n",
    "\n",
    "# sklearn imports\n",
    "from sklearn.svm import SVC\n",
    "from sklearn.pipeline import Pipeline\n",
    "from sklearn.preprocessing import StandardScaler\n",
    "from sklearn.model_selection import GridSearchCV, RandomizedSearchCV, train_test_split\n",
    "from sklearn.metrics import f1_score, confusion_matrix, plot_confusion_matrix\n",
    "from sklearn.naive_bayes import MultinomialNB\n",
    "from sklearn.feature_extraction.text import CountVectorizer, TfidfVectorizer\n",
    "from sklearn.linear_model import LinearRegression, LogisticRegression, LogisticRegressionCV\n",
    "from sklearn.ensemble import RandomForestClassifier, ExtraTreesClassifier\n",
    "\n",
    "\n",
    "# skopt imports\n",
    "from skopt.space import Integer, Real, Categorical\n",
    "from skopt import BayesSearchCV\n",
    "\n",
    "# distributions we'll need\n",
    "from scipy.stats import uniform, loguniform\n",
    "\n",
    "# regex\n",
    "import re\n",
    "\n",
    "# text preprocessing\n",
    "from nltk.stem import WordNetLemmatizer\n",
    "from nltk.stem.porter import PorterStemmer\n",
    "from nltk.tokenize import word_tokenize\n",
    "\n",
    "from sklearn.feature_extraction.text import CountVectorizer\n",
    "\n",
    "from nltk.tokenize import sent_tokenize, word_tokenize, RegexpTokenizer\n",
    "from nltk.stem import WordNetLemmatizer\n",
    "from nltk.stem.porter import PorterStemmer\n",
    "from nltk.corpus import stopwords\n",
    "from nltk.sentiment.vader import SentimentIntensityAnalyzer\n",
    "\n",
    "import time "
   ]
  },
  {
   "cell_type": "markdown",
   "id": "513e5556",
   "metadata": {},
   "source": [
    "## Cleaning"
   ]
  },
  {
   "cell_type": "markdown",
   "id": "1172d5c4",
   "metadata": {},
   "source": [
    "Using the scraped data that we saved, we're going to check for any nulls that happened to pass through and remove them."
   ]
  },
  {
   "cell_type": "code",
   "execution_count": 2,
   "id": "4660d002",
   "metadata": {},
   "outputs": [],
   "source": [
    "nosleep = pd.read_csv('./data/nosleep.csv')\n",
    "tale = pd.read_csv('./data/idontworkherelady.csv')"
   ]
  },
  {
   "cell_type": "code",
   "execution_count": 3,
   "id": "df7bba3a",
   "metadata": {},
   "outputs": [],
   "source": [
    "# tokenizing function\n",
    "def tokenize(column):\n",
    "    return word_tokenize(column)"
   ]
  },
  {
   "cell_type": "code",
   "execution_count": 4,
   "id": "d6d6f264",
   "metadata": {
    "scrolled": false
   },
   "outputs": [
    {
     "data": {
      "text/html": [
       "<div>\n",
       "<style scoped>\n",
       "    .dataframe tbody tr th:only-of-type {\n",
       "        vertical-align: middle;\n",
       "    }\n",
       "\n",
       "    .dataframe tbody tr th {\n",
       "        vertical-align: top;\n",
       "    }\n",
       "\n",
       "    .dataframe thead th {\n",
       "        text-align: right;\n",
       "    }\n",
       "</style>\n",
       "<table border=\"1\" class=\"dataframe\">\n",
       "  <thead>\n",
       "    <tr style=\"text-align: right;\">\n",
       "      <th></th>\n",
       "      <th>title</th>\n",
       "      <th>selftext</th>\n",
       "      <th>subreddit</th>\n",
       "      <th>created_utc</th>\n",
       "      <th>author</th>\n",
       "      <th>num_comments</th>\n",
       "      <th>score</th>\n",
       "      <th>is_self</th>\n",
       "      <th>timestamp</th>\n",
       "    </tr>\n",
       "  </thead>\n",
       "  <tbody>\n",
       "    <tr>\n",
       "      <th>10022</th>\n",
       "      <td>The Balloon Man</td>\n",
       "      <td>There’s a man with a handful of balloons at th...</td>\n",
       "      <td>nosleep</td>\n",
       "      <td>1589810985</td>\n",
       "      <td>Pie-rate_Pear-rot</td>\n",
       "      <td>3</td>\n",
       "      <td>1</td>\n",
       "      <td>True</td>\n",
       "      <td>2020-05-18</td>\n",
       "    </tr>\n",
       "    <tr>\n",
       "      <th>10023</th>\n",
       "      <td>The house i grew up in / part 1</td>\n",
       "      <td>I don’t remember much of my childhood, I was 5...</td>\n",
       "      <td>nosleep</td>\n",
       "      <td>1589811196</td>\n",
       "      <td>Benisman12</td>\n",
       "      <td>2</td>\n",
       "      <td>1</td>\n",
       "      <td>True</td>\n",
       "      <td>2020-05-18</td>\n",
       "    </tr>\n",
       "    <tr>\n",
       "      <th>10024</th>\n",
       "      <td>The Other Side</td>\n",
       "      <td>There’s a small town, and in the middle of tha...</td>\n",
       "      <td>nosleep</td>\n",
       "      <td>1589812475</td>\n",
       "      <td>PalkiaDots25</td>\n",
       "      <td>0</td>\n",
       "      <td>1</td>\n",
       "      <td>True</td>\n",
       "      <td>2020-05-18</td>\n",
       "    </tr>\n",
       "    <tr>\n",
       "      <th>10025</th>\n",
       "      <td>A strange box appeared on my front door .i can...</td>\n",
       "      <td>My childhood wasn’t what you would call ,norma...</td>\n",
       "      <td>nosleep</td>\n",
       "      <td>1589813624</td>\n",
       "      <td>potatoman-177</td>\n",
       "      <td>2</td>\n",
       "      <td>1</td>\n",
       "      <td>True</td>\n",
       "      <td>2020-05-18</td>\n",
       "    </tr>\n",
       "    <tr>\n",
       "      <th>10026</th>\n",
       "      <td>Honey</td>\n",
       "      <td>She smiled at him. A smile is worth many thing...</td>\n",
       "      <td>nosleep</td>\n",
       "      <td>1589815336</td>\n",
       "      <td>grajmanu</td>\n",
       "      <td>2</td>\n",
       "      <td>1</td>\n",
       "      <td>True</td>\n",
       "      <td>2020-05-18</td>\n",
       "    </tr>\n",
       "  </tbody>\n",
       "</table>\n",
       "</div>"
      ],
      "text/plain": [
       "                                                   title  \\\n",
       "10022                                    The Balloon Man   \n",
       "10023                    The house i grew up in / part 1   \n",
       "10024                                     The Other Side   \n",
       "10025  A strange box appeared on my front door .i can...   \n",
       "10026                                              Honey   \n",
       "\n",
       "                                                selftext subreddit  \\\n",
       "10022  There’s a man with a handful of balloons at th...   nosleep   \n",
       "10023  I don’t remember much of my childhood, I was 5...   nosleep   \n",
       "10024  There’s a small town, and in the middle of tha...   nosleep   \n",
       "10025  My childhood wasn’t what you would call ,norma...   nosleep   \n",
       "10026  She smiled at him. A smile is worth many thing...   nosleep   \n",
       "\n",
       "       created_utc             author  num_comments  score  is_self  \\\n",
       "10022   1589810985  Pie-rate_Pear-rot             3      1     True   \n",
       "10023   1589811196         Benisman12             2      1     True   \n",
       "10024   1589812475       PalkiaDots25             0      1     True   \n",
       "10025   1589813624      potatoman-177             2      1     True   \n",
       "10026   1589815336           grajmanu             2      1     True   \n",
       "\n",
       "        timestamp  \n",
       "10022  2020-05-18  \n",
       "10023  2020-05-18  \n",
       "10024  2020-05-18  \n",
       "10025  2020-05-18  \n",
       "10026  2020-05-18  "
      ]
     },
     "execution_count": 4,
     "metadata": {},
     "output_type": "execute_result"
    }
   ],
   "source": [
    "nosleep.tail()"
   ]
  },
  {
   "cell_type": "code",
   "execution_count": 5,
   "id": "b6ee611e",
   "metadata": {},
   "outputs": [
    {
     "data": {
      "text/plain": [
       "title           0\n",
       "selftext        2\n",
       "subreddit       0\n",
       "created_utc     0\n",
       "author          0\n",
       "num_comments    0\n",
       "score           0\n",
       "is_self         0\n",
       "timestamp       0\n",
       "dtype: int64"
      ]
     },
     "execution_count": 5,
     "metadata": {},
     "output_type": "execute_result"
    }
   ],
   "source": [
    "nosleep.isnull().sum()"
   ]
  },
  {
   "cell_type": "code",
   "execution_count": 6,
   "id": "44da98e0",
   "metadata": {},
   "outputs": [
    {
     "data": {
      "text/plain": [
       "title           0\n",
       "selftext        9\n",
       "subreddit       0\n",
       "created_utc     0\n",
       "author          0\n",
       "num_comments    0\n",
       "score           0\n",
       "is_self         0\n",
       "timestamp       0\n",
       "dtype: int64"
      ]
     },
     "execution_count": 6,
     "metadata": {},
     "output_type": "execute_result"
    }
   ],
   "source": [
    "tale.isnull().sum()"
   ]
  },
  {
   "cell_type": "code",
   "execution_count": 7,
   "id": "682bdc58",
   "metadata": {
    "scrolled": true
   },
   "outputs": [
    {
     "data": {
      "text/html": [
       "<div>\n",
       "<style scoped>\n",
       "    .dataframe tbody tr th:only-of-type {\n",
       "        vertical-align: middle;\n",
       "    }\n",
       "\n",
       "    .dataframe tbody tr th {\n",
       "        vertical-align: top;\n",
       "    }\n",
       "\n",
       "    .dataframe thead th {\n",
       "        text-align: right;\n",
       "    }\n",
       "</style>\n",
       "<table border=\"1\" class=\"dataframe\">\n",
       "  <thead>\n",
       "    <tr style=\"text-align: right;\">\n",
       "      <th></th>\n",
       "      <th>title</th>\n",
       "      <th>selftext</th>\n",
       "      <th>subreddit</th>\n",
       "      <th>created_utc</th>\n",
       "      <th>author</th>\n",
       "      <th>num_comments</th>\n",
       "      <th>score</th>\n",
       "      <th>is_self</th>\n",
       "      <th>timestamp</th>\n",
       "    </tr>\n",
       "  </thead>\n",
       "  <tbody>\n",
       "    <tr>\n",
       "      <th>4383</th>\n",
       "      <td>Another short but wholesome IDWHL story in Box...</td>\n",
       "      <td>NaN</td>\n",
       "      <td>IDontWorkHereLady</td>\n",
       "      <td>1575360422</td>\n",
       "      <td>TKmeh</td>\n",
       "      <td>0</td>\n",
       "      <td>1</td>\n",
       "      <td>True</td>\n",
       "      <td>2019-12-03</td>\n",
       "    </tr>\n",
       "    <tr>\n",
       "      <th>4502</th>\n",
       "      <td>What if everyone wore custom T-shirt’s that re...</td>\n",
       "      <td>NaN</td>\n",
       "      <td>IDontWorkHereLady</td>\n",
       "      <td>1573882959</td>\n",
       "      <td>RoyalKyn</td>\n",
       "      <td>0</td>\n",
       "      <td>1</td>\n",
       "      <td>True</td>\n",
       "      <td>2019-11-15</td>\n",
       "    </tr>\n",
       "    <tr>\n",
       "      <th>4580</th>\n",
       "      <td>I’m</td>\n",
       "      <td>NaN</td>\n",
       "      <td>IDontWorkHereLady</td>\n",
       "      <td>1573704247</td>\n",
       "      <td>eva_white</td>\n",
       "      <td>1</td>\n",
       "      <td>1</td>\n",
       "      <td>True</td>\n",
       "      <td>2019-11-13</td>\n",
       "    </tr>\n",
       "    <tr>\n",
       "      <th>4930</th>\n",
       "      <td>Someone needs to make \"I Don't Work Here\" shirts.</td>\n",
       "      <td>NaN</td>\n",
       "      <td>IDontWorkHereLady</td>\n",
       "      <td>1569995945</td>\n",
       "      <td>NJM15642002</td>\n",
       "      <td>0</td>\n",
       "      <td>1</td>\n",
       "      <td>True</td>\n",
       "      <td>2019-10-01</td>\n",
       "    </tr>\n",
       "    <tr>\n",
       "      <th>6722</th>\n",
       "      <td>[Meta] Take off your apron</td>\n",
       "      <td>NaN</td>\n",
       "      <td>IDontWorkHereLady</td>\n",
       "      <td>1555142170</td>\n",
       "      <td>hurryupand_wait</td>\n",
       "      <td>0</td>\n",
       "      <td>1</td>\n",
       "      <td>True</td>\n",
       "      <td>2019-04-13</td>\n",
       "    </tr>\n",
       "    <tr>\n",
       "      <th>6746</th>\n",
       "      <td>Found on Imgur. Just thought it would be good ...</td>\n",
       "      <td>NaN</td>\n",
       "      <td>IDontWorkHereLady</td>\n",
       "      <td>1554437152</td>\n",
       "      <td>Mkitty760</td>\n",
       "      <td>0</td>\n",
       "      <td>1</td>\n",
       "      <td>True</td>\n",
       "      <td>2019-04-04</td>\n",
       "    </tr>\n",
       "    <tr>\n",
       "      <th>8273</th>\n",
       "      <td>If you walk through a department store wearing...</td>\n",
       "      <td>NaN</td>\n",
       "      <td>IDontWorkHereLady</td>\n",
       "      <td>1545009303</td>\n",
       "      <td>ro_ok</td>\n",
       "      <td>0</td>\n",
       "      <td>1</td>\n",
       "      <td>True</td>\n",
       "      <td>2018-12-16</td>\n",
       "    </tr>\n",
       "    <tr>\n",
       "      <th>8793</th>\n",
       "      <td>Reading these stories makes me want to dress a...</td>\n",
       "      <td>NaN</td>\n",
       "      <td>IDontWorkHereLady</td>\n",
       "      <td>1541620498</td>\n",
       "      <td>drinkKing</td>\n",
       "      <td>7</td>\n",
       "      <td>1</td>\n",
       "      <td>True</td>\n",
       "      <td>2018-11-07</td>\n",
       "    </tr>\n",
       "    <tr>\n",
       "      <th>9580</th>\n",
       "      <td>Entitled idiot decides to moan and complain in...</td>\n",
       "      <td>NaN</td>\n",
       "      <td>IDontWorkHereLady</td>\n",
       "      <td>1534386928</td>\n",
       "      <td>IdiotRetailCustomers</td>\n",
       "      <td>0</td>\n",
       "      <td>1</td>\n",
       "      <td>True</td>\n",
       "      <td>2018-08-15</td>\n",
       "    </tr>\n",
       "  </tbody>\n",
       "</table>\n",
       "</div>"
      ],
      "text/plain": [
       "                                                  title selftext  \\\n",
       "4383  Another short but wholesome IDWHL story in Box...      NaN   \n",
       "4502  What if everyone wore custom T-shirt’s that re...      NaN   \n",
       "4580                                                I’m      NaN   \n",
       "4930  Someone needs to make \"I Don't Work Here\" shirts.      NaN   \n",
       "6722                         [Meta] Take off your apron      NaN   \n",
       "6746  Found on Imgur. Just thought it would be good ...      NaN   \n",
       "8273  If you walk through a department store wearing...      NaN   \n",
       "8793  Reading these stories makes me want to dress a...      NaN   \n",
       "9580  Entitled idiot decides to moan and complain in...      NaN   \n",
       "\n",
       "              subreddit  created_utc                author  num_comments  \\\n",
       "4383  IDontWorkHereLady   1575360422                 TKmeh             0   \n",
       "4502  IDontWorkHereLady   1573882959              RoyalKyn             0   \n",
       "4580  IDontWorkHereLady   1573704247             eva_white             1   \n",
       "4930  IDontWorkHereLady   1569995945           NJM15642002             0   \n",
       "6722  IDontWorkHereLady   1555142170       hurryupand_wait             0   \n",
       "6746  IDontWorkHereLady   1554437152             Mkitty760             0   \n",
       "8273  IDontWorkHereLady   1545009303                 ro_ok             0   \n",
       "8793  IDontWorkHereLady   1541620498             drinkKing             7   \n",
       "9580  IDontWorkHereLady   1534386928  IdiotRetailCustomers             0   \n",
       "\n",
       "      score  is_self   timestamp  \n",
       "4383      1     True  2019-12-03  \n",
       "4502      1     True  2019-11-15  \n",
       "4580      1     True  2019-11-13  \n",
       "4930      1     True  2019-10-01  \n",
       "6722      1     True  2019-04-13  \n",
       "6746      1     True  2019-04-04  \n",
       "8273      1     True  2018-12-16  \n",
       "8793      1     True  2018-11-07  \n",
       "9580      1     True  2018-08-15  "
      ]
     },
     "execution_count": 7,
     "metadata": {},
     "output_type": "execute_result"
    }
   ],
   "source": [
    "tale[tale['selftext'].isnull()]"
   ]
  },
  {
   "cell_type": "code",
   "execution_count": 8,
   "id": "b04c0556",
   "metadata": {},
   "outputs": [
    {
     "data": {
      "text/html": [
       "<div>\n",
       "<style scoped>\n",
       "    .dataframe tbody tr th:only-of-type {\n",
       "        vertical-align: middle;\n",
       "    }\n",
       "\n",
       "    .dataframe tbody tr th {\n",
       "        vertical-align: top;\n",
       "    }\n",
       "\n",
       "    .dataframe thead th {\n",
       "        text-align: right;\n",
       "    }\n",
       "</style>\n",
       "<table border=\"1\" class=\"dataframe\">\n",
       "  <thead>\n",
       "    <tr style=\"text-align: right;\">\n",
       "      <th></th>\n",
       "      <th>title</th>\n",
       "      <th>selftext</th>\n",
       "      <th>subreddit</th>\n",
       "      <th>created_utc</th>\n",
       "      <th>author</th>\n",
       "      <th>num_comments</th>\n",
       "      <th>score</th>\n",
       "      <th>is_self</th>\n",
       "      <th>timestamp</th>\n",
       "    </tr>\n",
       "  </thead>\n",
       "  <tbody>\n",
       "    <tr>\n",
       "      <th>9596</th>\n",
       "      <td>What Marijuana Strains Work Best for Sleep?</td>\n",
       "      <td>NaN</td>\n",
       "      <td>nosleep</td>\n",
       "      <td>1591095495</td>\n",
       "      <td>CurtD34</td>\n",
       "      <td>1</td>\n",
       "      <td>1</td>\n",
       "      <td>True</td>\n",
       "      <td>2020-06-02</td>\n",
       "    </tr>\n",
       "    <tr>\n",
       "      <th>9800</th>\n",
       "      <td>I found a box of strange DVDs at work. I wish ...</td>\n",
       "      <td>NaN</td>\n",
       "      <td>nosleep</td>\n",
       "      <td>1590295783</td>\n",
       "      <td>BillyManHansJr</td>\n",
       "      <td>1</td>\n",
       "      <td>1</td>\n",
       "      <td>True</td>\n",
       "      <td>2020-05-23</td>\n",
       "    </tr>\n",
       "  </tbody>\n",
       "</table>\n",
       "</div>"
      ],
      "text/plain": [
       "                                                  title selftext subreddit  \\\n",
       "9596        What Marijuana Strains Work Best for Sleep?      NaN   nosleep   \n",
       "9800  I found a box of strange DVDs at work. I wish ...      NaN   nosleep   \n",
       "\n",
       "      created_utc          author  num_comments  score  is_self   timestamp  \n",
       "9596   1591095495         CurtD34             1      1     True  2020-06-02  \n",
       "9800   1590295783  BillyManHansJr             1      1     True  2020-05-23  "
      ]
     },
     "execution_count": 8,
     "metadata": {},
     "output_type": "execute_result"
    }
   ],
   "source": [
    "nosleep[nosleep['selftext'].isnull()]"
   ]
  },
  {
   "cell_type": "code",
   "execution_count": 9,
   "id": "aa34300d",
   "metadata": {},
   "outputs": [],
   "source": [
    "tale.dropna(inplace = True)\n",
    "nosleep.dropna(inplace = True)"
   ]
  },
  {
   "cell_type": "markdown",
   "id": "10b48fe5",
   "metadata": {},
   "source": [
    "We'll then remove about half of our scraped data from each subreddit, as we believe a total of 10,000 posts combined is more than enough data to model. Any cleaning left is for removing links, punctuation, and any markdown features that will interfere with tokenizing."
   ]
  },
  {
   "cell_type": "code",
   "execution_count": 10,
   "id": "85339fb6",
   "metadata": {},
   "outputs": [],
   "source": [
    "nosleep = nosleep[:5100]\n",
    "tale = tale[:5100]"
   ]
  },
  {
   "cell_type": "code",
   "execution_count": 11,
   "id": "006b4c53",
   "metadata": {},
   "outputs": [],
   "source": [
    "# removes links\n",
    "tale['title'] = [re.sub(r'http\\S+', '', text) for text in tale['title']]\n",
    "tale['selftext'] = [re.sub(r'^https?:\\/\\/.*[\\r\\n]*', '', text, flags=re.MULTILINE) for text in tale['selftext']]\n",
    "# removes special characters\n",
    "tale['title'] = [re.sub(r'[^\\w\\s]', '', text) for text in tale['title']]\n",
    "# removes all punctuation\n",
    "tale['title'] = [re.sub(\"(?<=[a-z])'(?=[a-z])\", \"\", text) for text in tale['title']]\n",
    "\n",
    "# removes links\n",
    "tale['selftext'] = [re.sub(r'http\\S+', '', text) for text in tale['selftext']]\n",
    "# removes special characters\n",
    "tale['selftext'] = [re.sub(r'[^\\w\\s]', '', text) for text in tale['selftext']]\n",
    "# removes all punctuation\n",
    "tale['selftext'] = [re.sub(\"(?<=[a-z])'(?=[a-z])\", \"\", text) for text in tale['selftext']]"
   ]
  },
  {
   "cell_type": "code",
   "execution_count": 12,
   "id": "63e5e018",
   "metadata": {},
   "outputs": [],
   "source": [
    "# removes links\n",
    "nosleep['title'] = [re.sub(r'http\\S+', '', text) for text in nosleep['title']]\n",
    "nosleep['selftext'] = [re.sub(r'^https?:\\/\\/.*[\\r\\n]*', '', text, flags=re.MULTILINE) for text in nosleep['selftext']]\n",
    "# removes special characters\n",
    "nosleep['title'] = [re.sub(r'[^\\w\\s]', '', text) for text in nosleep['title']]\n",
    "# removes all punctuation\n",
    "nosleep['title'] = [re.sub(\"(?<=[a-z])'(?=[a-z])\", \"\", text) for text in nosleep['title']]\n",
    "\n",
    "# removes links\n",
    "nosleep['selftext'] = [re.sub(r'http\\S+', '', text) for text in nosleep['selftext']]\n",
    "# removes special characters\n",
    "nosleep['selftext'] = [re.sub(r'[^\\w\\s]', '', text) for text in nosleep['selftext']]\n",
    "# removes all punctuation\n",
    "nosleep['selftext'] = [re.sub(\"(?<=[a-z])'(?=[a-z])\", \"\", text) for text in nosleep['selftext']]"
   ]
  },
  {
   "cell_type": "code",
   "execution_count": 13,
   "id": "6d2f1b0b",
   "metadata": {},
   "outputs": [],
   "source": [
    "# Remove certain reddit markdown issues from title and selftext column\n",
    "# function credit: https://github.com/gwenrathgeber/subreddit_text_classification/blob/master/code/clean_raw_data.py\n",
    "for column in ['title','selftext']:\n",
    "    tale[column] = tale[column].str.replace('\\xa0',' ')\n",
    "    tale[column] = tale[column].str.replace('&lt;',' ')\n",
    "    tale[column] = tale[column].str.replace('&gt;',' ')\n",
    "    tale[column] = tale[column].str.replace('&amp;',' ')\n",
    "    tale[column] = tale[column].str.replace('x200B','')\n",
    "    tale.loc[:,column] = tale[column].str.replace('\\n',' ')"
   ]
  },
  {
   "cell_type": "code",
   "execution_count": 14,
   "id": "b1d0bfb5",
   "metadata": {},
   "outputs": [],
   "source": [
    "# Remove certain reddit markdown issues from title and selftext column\n",
    "# function credit: https://github.com/gwenrathgeber/subreddit_text_classification/blob/master/code/clean_raw_data.py\n",
    "for column in ['title','selftext']:\n",
    "    nosleep[column] = nosleep[column].str.replace('\\xa0',' ')\n",
    "    nosleep[column] = nosleep[column].str.replace('&lt;',' ')\n",
    "    nosleep[column] = nosleep[column].str.replace('&gt;',' ')\n",
    "    nosleep[column] = nosleep[column].str.replace('&amp;',' ')\n",
    "    nosleep[column] = nosleep[column].str.replace('x200B','')\n",
    "    nosleep.loc[:,column] = nosleep[column].str.replace('\\n',' ')"
   ]
  },
  {
   "cell_type": "markdown",
   "id": "7cb105b3",
   "metadata": {},
   "source": [
    "Now we're dropping columns that are not either the title or the selftext, and binarizing the subreddit column."
   ]
  },
  {
   "cell_type": "code",
   "execution_count": 15,
   "id": "ce960657",
   "metadata": {},
   "outputs": [],
   "source": [
    "nosleep.drop(columns = ['created_utc', 'author', 'num_comments', 'score', 'is_self', 'timestamp'], inplace = True)"
   ]
  },
  {
   "cell_type": "code",
   "execution_count": 16,
   "id": "c97bacd5",
   "metadata": {},
   "outputs": [],
   "source": [
    "tale.drop(columns = ['created_utc', 'author', 'num_comments', 'score', 'is_self', 'timestamp'], inplace = True)"
   ]
  },
  {
   "cell_type": "code",
   "execution_count": 17,
   "id": "7e22ee22",
   "metadata": {
    "scrolled": false
   },
   "outputs": [
    {
     "data": {
      "text/html": [
       "<div>\n",
       "<style scoped>\n",
       "    .dataframe tbody tr th:only-of-type {\n",
       "        vertical-align: middle;\n",
       "    }\n",
       "\n",
       "    .dataframe tbody tr th {\n",
       "        vertical-align: top;\n",
       "    }\n",
       "\n",
       "    .dataframe thead th {\n",
       "        text-align: right;\n",
       "    }\n",
       "</style>\n",
       "<table border=\"1\" class=\"dataframe\">\n",
       "  <thead>\n",
       "    <tr style=\"text-align: right;\">\n",
       "      <th></th>\n",
       "      <th>title</th>\n",
       "      <th>selftext</th>\n",
       "      <th>subreddit</th>\n",
       "    </tr>\n",
       "  </thead>\n",
       "  <tbody>\n",
       "    <tr>\n",
       "      <th>0</th>\n",
       "      <td>Thats not my job</td>\n",
       "      <td>Tonight I visited my old stomping grounds I us...</td>\n",
       "      <td>IDontWorkHereLady</td>\n",
       "    </tr>\n",
       "    <tr>\n",
       "      <th>1</th>\n",
       "      <td>Just because I put stuff back into the shelf d...</td>\n",
       "      <td>The other day I was at our local drugstore I c...</td>\n",
       "      <td>IDontWorkHereLady</td>\n",
       "    </tr>\n",
       "    <tr>\n",
       "      <th>2</th>\n",
       "      <td>Im not sure you should be shopping unsupervised</td>\n",
       "      <td>This happened to me yesterday and is a little ...</td>\n",
       "      <td>IDontWorkHereLady</td>\n",
       "    </tr>\n",
       "    <tr>\n",
       "      <th>3</th>\n",
       "      <td>You dont work here but would you like to</td>\n",
       "      <td>Many years ago I worked for Home Depot as a lu...</td>\n",
       "      <td>IDontWorkHereLady</td>\n",
       "    </tr>\n",
       "    <tr>\n",
       "      <th>4</th>\n",
       "      <td>You must be new in town</td>\n",
       "      <td>I was in the grocery store and had a basket wi...</td>\n",
       "      <td>IDontWorkHereLady</td>\n",
       "    </tr>\n",
       "    <tr>\n",
       "      <th>...</th>\n",
       "      <td>...</td>\n",
       "      <td>...</td>\n",
       "      <td>...</td>\n",
       "    </tr>\n",
       "    <tr>\n",
       "      <th>5095</th>\n",
       "      <td>I almost had an I dont work here lady moment</td>\n",
       "      <td>So I know that I didnt really have an experien...</td>\n",
       "      <td>IDontWorkHereLady</td>\n",
       "    </tr>\n",
       "    <tr>\n",
       "      <th>5096</th>\n",
       "      <td>Im not a doctor Im a sales agent</td>\n",
       "      <td>Disclaimer its been so long since I last had a...</td>\n",
       "      <td>IDontWorkHereLady</td>\n",
       "    </tr>\n",
       "    <tr>\n",
       "      <th>5097</th>\n",
       "      <td>Entitled Woman at Universal Studios Japan</td>\n",
       "      <td>I am a 24 year old female working in Osaka Ja...</td>\n",
       "      <td>IDontWorkHereLady</td>\n",
       "    </tr>\n",
       "    <tr>\n",
       "      <th>5098</th>\n",
       "      <td>I dont think I want a tattoo anymore</td>\n",
       "      <td>So I wanted a tattoo for a while now but I ALW...</td>\n",
       "      <td>IDontWorkHereLady</td>\n",
       "    </tr>\n",
       "    <tr>\n",
       "      <th>5099</th>\n",
       "      <td>Subway manager fired himself</td>\n",
       "      <td>Posting for my best friend he doesnt have redd...</td>\n",
       "      <td>IDontWorkHereLady</td>\n",
       "    </tr>\n",
       "  </tbody>\n",
       "</table>\n",
       "<p>5100 rows × 3 columns</p>\n",
       "</div>"
      ],
      "text/plain": [
       "                                                  title  \\\n",
       "0                                      Thats not my job   \n",
       "1     Just because I put stuff back into the shelf d...   \n",
       "2       Im not sure you should be shopping unsupervised   \n",
       "3              You dont work here but would you like to   \n",
       "4                               You must be new in town   \n",
       "...                                                 ...   \n",
       "5095       I almost had an I dont work here lady moment   \n",
       "5096                   Im not a doctor Im a sales agent   \n",
       "5097          Entitled Woman at Universal Studios Japan   \n",
       "5098               I dont think I want a tattoo anymore   \n",
       "5099                       Subway manager fired himself   \n",
       "\n",
       "                                               selftext          subreddit  \n",
       "0     Tonight I visited my old stomping grounds I us...  IDontWorkHereLady  \n",
       "1     The other day I was at our local drugstore I c...  IDontWorkHereLady  \n",
       "2     This happened to me yesterday and is a little ...  IDontWorkHereLady  \n",
       "3     Many years ago I worked for Home Depot as a lu...  IDontWorkHereLady  \n",
       "4     I was in the grocery store and had a basket wi...  IDontWorkHereLady  \n",
       "...                                                 ...                ...  \n",
       "5095  So I know that I didnt really have an experien...  IDontWorkHereLady  \n",
       "5096  Disclaimer its been so long since I last had a...  IDontWorkHereLady  \n",
       "5097   I am a 24 year old female working in Osaka Ja...  IDontWorkHereLady  \n",
       "5098  So I wanted a tattoo for a while now but I ALW...  IDontWorkHereLady  \n",
       "5099  Posting for my best friend he doesnt have redd...  IDontWorkHereLady  \n",
       "\n",
       "[5100 rows x 3 columns]"
      ]
     },
     "execution_count": 17,
     "metadata": {},
     "output_type": "execute_result"
    }
   ],
   "source": [
    "nosleep.reset_index(drop = True)\n",
    "tale.reset_index(drop = True)"
   ]
  },
  {
   "cell_type": "markdown",
   "id": "d6ba44d1",
   "metadata": {},
   "source": [
    "We're tokenizing the title and selftext of both subreddits."
   ]
  },
  {
   "cell_type": "code",
   "execution_count": 18,
   "id": "6b3f3f6b",
   "metadata": {},
   "outputs": [],
   "source": [
    "nosleep['toke_selftext'] = nosleep.apply(lambda row: word_tokenize(row['selftext']), axis=1)"
   ]
  },
  {
   "cell_type": "code",
   "execution_count": 19,
   "id": "8a2bbad2",
   "metadata": {},
   "outputs": [],
   "source": [
    "nosleep['toke_title'] = nosleep.apply(lambda row: word_tokenize(row['title']), axis=1)"
   ]
  },
  {
   "cell_type": "code",
   "execution_count": 20,
   "id": "4ab20856",
   "metadata": {},
   "outputs": [],
   "source": [
    "tale['toke_selftext'] = tale.apply(lambda row: word_tokenize(row['selftext']), axis=1)\n",
    "tale['toke_title'] = tale.apply(lambda row: word_tokenize(row['title']), axis=1)"
   ]
  },
  {
   "cell_type": "code",
   "execution_count": 21,
   "id": "f25090ee",
   "metadata": {},
   "outputs": [
    {
     "data": {
      "text/html": [
       "<div>\n",
       "<style scoped>\n",
       "    .dataframe tbody tr th:only-of-type {\n",
       "        vertical-align: middle;\n",
       "    }\n",
       "\n",
       "    .dataframe tbody tr th {\n",
       "        vertical-align: top;\n",
       "    }\n",
       "\n",
       "    .dataframe thead th {\n",
       "        text-align: right;\n",
       "    }\n",
       "</style>\n",
       "<table border=\"1\" class=\"dataframe\">\n",
       "  <thead>\n",
       "    <tr style=\"text-align: right;\">\n",
       "      <th></th>\n",
       "      <th>subreddit</th>\n",
       "      <th>toke_selftext</th>\n",
       "      <th>toke_title</th>\n",
       "    </tr>\n",
       "  </thead>\n",
       "  <tbody>\n",
       "    <tr>\n",
       "      <th>0</th>\n",
       "      <td>nosleep</td>\n",
       "      <td>[The, Leatherman, was, local, folklore, virtua...</td>\n",
       "      <td>[The, Leatherman]</td>\n",
       "    </tr>\n",
       "    <tr>\n",
       "      <th>1</th>\n",
       "      <td>nosleep</td>\n",
       "      <td>[As, a, forensic, cleaner, there, are, many, t...</td>\n",
       "      <td>[That, Thing]</td>\n",
       "    </tr>\n",
       "    <tr>\n",
       "      <th>2</th>\n",
       "      <td>nosleep</td>\n",
       "      <td>[I, had, just, woke, up, in, the, middle, of, ...</td>\n",
       "      <td>[Smile]</td>\n",
       "    </tr>\n",
       "    <tr>\n",
       "      <th>3</th>\n",
       "      <td>nosleep</td>\n",
       "      <td>[Hello, its, Renee, again, Im, really, sorry, ...</td>\n",
       "      <td>[I, made, a, list, ranking, my, neighbours, Ki...</td>\n",
       "    </tr>\n",
       "    <tr>\n",
       "      <th>4</th>\n",
       "      <td>nosleep</td>\n",
       "      <td>[Part, I, linked, here, So, its, been, a, whil...</td>\n",
       "      <td>[What, I, did, in, my, past, could, cost, me, ...</td>\n",
       "    </tr>\n",
       "  </tbody>\n",
       "</table>\n",
       "</div>"
      ],
      "text/plain": [
       "  subreddit                                      toke_selftext  \\\n",
       "0   nosleep  [The, Leatherman, was, local, folklore, virtua...   \n",
       "1   nosleep  [As, a, forensic, cleaner, there, are, many, t...   \n",
       "2   nosleep  [I, had, just, woke, up, in, the, middle, of, ...   \n",
       "3   nosleep  [Hello, its, Renee, again, Im, really, sorry, ...   \n",
       "4   nosleep  [Part, I, linked, here, So, its, been, a, whil...   \n",
       "\n",
       "                                          toke_title  \n",
       "0                                  [The, Leatherman]  \n",
       "1                                      [That, Thing]  \n",
       "2                                            [Smile]  \n",
       "3  [I, made, a, list, ranking, my, neighbours, Ki...  \n",
       "4  [What, I, did, in, my, past, could, cost, me, ...  "
      ]
     },
     "execution_count": 21,
     "metadata": {},
     "output_type": "execute_result"
    }
   ],
   "source": [
    "sleep = nosleep.drop(columns = ['title', 'selftext'])\n",
    "sleep.head()"
   ]
  },
  {
   "cell_type": "markdown",
   "id": "7f1c8922",
   "metadata": {},
   "source": [
    "Once tokenized, we're now lemmatizing the text to reduce words to their basic meaning. No stemming is done as we believe it to be too brutal and would cause us to lose nuance of the posts. Subreddit titles will be combined with selftext to reduce any complexity in lemmatizing. We will then add both subreddits together into one combined dataframe."
   ]
  },
  {
   "cell_type": "code",
   "execution_count": 22,
   "id": "675701ae",
   "metadata": {},
   "outputs": [],
   "source": [
    "lemmatizer = WordNetLemmatizer()\n",
    "def lemmatize_text(text):\n",
    "    return [lemmatizer.lemmatize(w) for w in text]"
   ]
  },
  {
   "cell_type": "code",
   "execution_count": 23,
   "id": "6bf19d88",
   "metadata": {},
   "outputs": [],
   "source": [
    "# lemmatize columns\n",
    "sleep['lem_title'] = sleep['toke_title'].apply(lemmatize_text)\n",
    "sleep['lem_selftext'] = sleep['toke_selftext'].apply(lemmatize_text)\n",
    "# rejoin list as string\n",
    "sleep['lem_title'] = sleep['lem_title'].apply(lambda x: ','.join(map(str, x))).str.replace(',', ' ')\n",
    "sleep['lem_selftext'] = sleep['toke_selftext'].apply(lambda x: ','.join(map(str, x))).str.replace(',', ' ')\n",
    "\n",
    "sleep.drop(columns = ['toke_selftext', 'toke_title'], inplace = True)"
   ]
  },
  {
   "cell_type": "code",
   "execution_count": 24,
   "id": "9c5d7043",
   "metadata": {
    "scrolled": false
   },
   "outputs": [],
   "source": [
    "# combining title and selftext\n",
    "sleep['fulltext'] = sleep['lem_title'] + ' ' + sleep['lem_selftext']\n",
    "sleep.drop(columns = ['lem_title', 'lem_selftext'], inplace = True)"
   ]
  },
  {
   "cell_type": "code",
   "execution_count": 26,
   "id": "281fcaa0",
   "metadata": {},
   "outputs": [],
   "source": [
    "# lemmatize columns\n",
    "tale['lem_title'] = tale['toke_title'].apply(lemmatize_text)\n",
    "tale['lem_selftext'] = tale['toke_selftext'].apply(lemmatize_text)\n",
    "# rejoin list as string\n",
    "tale['lem_title'] = tale['lem_title'].apply(lambda x: ','.join(map(str, x))).str.replace(',', ' ')\n",
    "tale['lem_selftext'] = tale['toke_selftext'].apply(lambda x: ','.join(map(str, x))).str.replace(',', ' ')\n",
    "\n",
    "tale.drop(columns = ['toke_selftext', 'toke_title', 'title', 'selftext'], inplace = True)"
   ]
  },
  {
   "cell_type": "code",
   "execution_count": 27,
   "id": "6d0eb404",
   "metadata": {},
   "outputs": [],
   "source": [
    "# combining title and selftext\n",
    "tale['fulltext'] = tale['lem_title'] + ' ' + tale['lem_selftext']\n",
    "tale.drop(columns = ['lem_title', 'lem_selftext'], inplace = True)"
   ]
  },
  {
   "cell_type": "code",
   "execution_count": 28,
   "id": "e53d46a5",
   "metadata": {},
   "outputs": [],
   "source": [
    "# concat both subreddits together into one dataframe\n",
    "both = pd.concat([sleep, tale])"
   ]
  },
  {
   "cell_type": "code",
   "execution_count": 29,
   "id": "e986397a",
   "metadata": {
    "scrolled": false
   },
   "outputs": [
    {
     "data": {
      "text/html": [
       "<div>\n",
       "<style scoped>\n",
       "    .dataframe tbody tr th:only-of-type {\n",
       "        vertical-align: middle;\n",
       "    }\n",
       "\n",
       "    .dataframe tbody tr th {\n",
       "        vertical-align: top;\n",
       "    }\n",
       "\n",
       "    .dataframe thead th {\n",
       "        text-align: right;\n",
       "    }\n",
       "</style>\n",
       "<table border=\"1\" class=\"dataframe\">\n",
       "  <thead>\n",
       "    <tr style=\"text-align: right;\">\n",
       "      <th></th>\n",
       "      <th>subreddit</th>\n",
       "      <th>fulltext</th>\n",
       "    </tr>\n",
       "  </thead>\n",
       "  <tbody>\n",
       "    <tr>\n",
       "      <th>0</th>\n",
       "      <td>nosleep</td>\n",
       "      <td>The Leatherman The Leatherman was local folklo...</td>\n",
       "    </tr>\n",
       "    <tr>\n",
       "      <th>1</th>\n",
       "      <td>nosleep</td>\n",
       "      <td>That Thing As a forensic cleaner there are man...</td>\n",
       "    </tr>\n",
       "    <tr>\n",
       "      <th>2</th>\n",
       "      <td>nosleep</td>\n",
       "      <td>Smile I had just woke up in the middle of the ...</td>\n",
       "    </tr>\n",
       "    <tr>\n",
       "      <th>3</th>\n",
       "      <td>nosleep</td>\n",
       "      <td>I made a list ranking my neighbour Kids these ...</td>\n",
       "    </tr>\n",
       "    <tr>\n",
       "      <th>4</th>\n",
       "      <td>nosleep</td>\n",
       "      <td>What I did in my past could cost me everything...</td>\n",
       "    </tr>\n",
       "    <tr>\n",
       "      <th>...</th>\n",
       "      <td>...</td>\n",
       "      <td>...</td>\n",
       "    </tr>\n",
       "    <tr>\n",
       "      <th>10195</th>\n",
       "      <td>IDontWorkHereLady</td>\n",
       "      <td>I almost had an I dont work here lady moment S...</td>\n",
       "    </tr>\n",
       "    <tr>\n",
       "      <th>10196</th>\n",
       "      <td>IDontWorkHereLady</td>\n",
       "      <td>Im not a doctor Im a sale agent Disclaimer its...</td>\n",
       "    </tr>\n",
       "    <tr>\n",
       "      <th>10197</th>\n",
       "      <td>IDontWorkHereLady</td>\n",
       "      <td>Entitled Woman at Universal Studios Japan I am...</td>\n",
       "    </tr>\n",
       "    <tr>\n",
       "      <th>10198</th>\n",
       "      <td>IDontWorkHereLady</td>\n",
       "      <td>I dont think I want a tattoo anymore So I want...</td>\n",
       "    </tr>\n",
       "    <tr>\n",
       "      <th>10199</th>\n",
       "      <td>IDontWorkHereLady</td>\n",
       "      <td>Subway manager fired himself Posting for my be...</td>\n",
       "    </tr>\n",
       "  </tbody>\n",
       "</table>\n",
       "<p>10200 rows × 2 columns</p>\n",
       "</div>"
      ],
      "text/plain": [
       "               subreddit                                           fulltext\n",
       "0                nosleep  The Leatherman The Leatherman was local folklo...\n",
       "1                nosleep  That Thing As a forensic cleaner there are man...\n",
       "2                nosleep  Smile I had just woke up in the middle of the ...\n",
       "3                nosleep  I made a list ranking my neighbour Kids these ...\n",
       "4                nosleep  What I did in my past could cost me everything...\n",
       "...                  ...                                                ...\n",
       "10195  IDontWorkHereLady  I almost had an I dont work here lady moment S...\n",
       "10196  IDontWorkHereLady  Im not a doctor Im a sale agent Disclaimer its...\n",
       "10197  IDontWorkHereLady  Entitled Woman at Universal Studios Japan I am...\n",
       "10198  IDontWorkHereLady  I dont think I want a tattoo anymore So I want...\n",
       "10199  IDontWorkHereLady  Subway manager fired himself Posting for my be...\n",
       "\n",
       "[10200 rows x 2 columns]"
      ]
     },
     "execution_count": 29,
     "metadata": {},
     "output_type": "execute_result"
    }
   ],
   "source": [
    "# reset index for later computation\n",
    "both.reset_index(drop = True)"
   ]
  },
  {
   "cell_type": "code",
   "execution_count": 30,
   "id": "0f312096",
   "metadata": {},
   "outputs": [],
   "source": [
    "both['subreddit'] = both['subreddit'].map(lambda x: 1 if x == 'nosleep' else 0)"
   ]
  },
  {
   "cell_type": "code",
   "execution_count": 31,
   "id": "3197de4b",
   "metadata": {
    "scrolled": false
   },
   "outputs": [
    {
     "data": {
      "text/html": [
       "<div>\n",
       "<style scoped>\n",
       "    .dataframe tbody tr th:only-of-type {\n",
       "        vertical-align: middle;\n",
       "    }\n",
       "\n",
       "    .dataframe tbody tr th {\n",
       "        vertical-align: top;\n",
       "    }\n",
       "\n",
       "    .dataframe thead th {\n",
       "        text-align: right;\n",
       "    }\n",
       "</style>\n",
       "<table border=\"1\" class=\"dataframe\">\n",
       "  <thead>\n",
       "    <tr style=\"text-align: right;\">\n",
       "      <th></th>\n",
       "      <th>subreddit</th>\n",
       "      <th>fulltext</th>\n",
       "    </tr>\n",
       "  </thead>\n",
       "  <tbody>\n",
       "    <tr>\n",
       "      <th>0</th>\n",
       "      <td>1</td>\n",
       "      <td>The Leatherman The Leatherman was local folklo...</td>\n",
       "    </tr>\n",
       "    <tr>\n",
       "      <th>1</th>\n",
       "      <td>1</td>\n",
       "      <td>That Thing As a forensic cleaner there are man...</td>\n",
       "    </tr>\n",
       "    <tr>\n",
       "      <th>2</th>\n",
       "      <td>1</td>\n",
       "      <td>Smile I had just woke up in the middle of the ...</td>\n",
       "    </tr>\n",
       "    <tr>\n",
       "      <th>3</th>\n",
       "      <td>1</td>\n",
       "      <td>I made a list ranking my neighbour Kids these ...</td>\n",
       "    </tr>\n",
       "    <tr>\n",
       "      <th>4</th>\n",
       "      <td>1</td>\n",
       "      <td>What I did in my past could cost me everything...</td>\n",
       "    </tr>\n",
       "    <tr>\n",
       "      <th>...</th>\n",
       "      <td>...</td>\n",
       "      <td>...</td>\n",
       "    </tr>\n",
       "    <tr>\n",
       "      <th>10195</th>\n",
       "      <td>0</td>\n",
       "      <td>I almost had an I dont work here lady moment S...</td>\n",
       "    </tr>\n",
       "    <tr>\n",
       "      <th>10196</th>\n",
       "      <td>0</td>\n",
       "      <td>Im not a doctor Im a sale agent Disclaimer its...</td>\n",
       "    </tr>\n",
       "    <tr>\n",
       "      <th>10197</th>\n",
       "      <td>0</td>\n",
       "      <td>Entitled Woman at Universal Studios Japan I am...</td>\n",
       "    </tr>\n",
       "    <tr>\n",
       "      <th>10198</th>\n",
       "      <td>0</td>\n",
       "      <td>I dont think I want a tattoo anymore So I want...</td>\n",
       "    </tr>\n",
       "    <tr>\n",
       "      <th>10199</th>\n",
       "      <td>0</td>\n",
       "      <td>Subway manager fired himself Posting for my be...</td>\n",
       "    </tr>\n",
       "  </tbody>\n",
       "</table>\n",
       "<p>10200 rows × 2 columns</p>\n",
       "</div>"
      ],
      "text/plain": [
       "       subreddit                                           fulltext\n",
       "0              1  The Leatherman The Leatherman was local folklo...\n",
       "1              1  That Thing As a forensic cleaner there are man...\n",
       "2              1  Smile I had just woke up in the middle of the ...\n",
       "3              1  I made a list ranking my neighbour Kids these ...\n",
       "4              1  What I did in my past could cost me everything...\n",
       "...          ...                                                ...\n",
       "10195          0  I almost had an I dont work here lady moment S...\n",
       "10196          0  Im not a doctor Im a sale agent Disclaimer its...\n",
       "10197          0  Entitled Woman at Universal Studios Japan I am...\n",
       "10198          0  I dont think I want a tattoo anymore So I want...\n",
       "10199          0  Subway manager fired himself Posting for my be...\n",
       "\n",
       "[10200 rows x 2 columns]"
      ]
     },
     "execution_count": 31,
     "metadata": {},
     "output_type": "execute_result"
    }
   ],
   "source": [
    "both.reset_index(drop = True)"
   ]
  },
  {
   "cell_type": "markdown",
   "id": "55eb0e7d",
   "metadata": {},
   "source": [
    "## EDA"
   ]
  },
  {
   "cell_type": "markdown",
   "id": "c8a9d524",
   "metadata": {},
   "source": [
    "We will examine the most popular words of both subreddits to get an idea of what to expect before we model."
   ]
  },
  {
   "cell_type": "code",
   "execution_count": 33,
   "id": "a924ef2b",
   "metadata": {},
   "outputs": [],
   "source": [
    "cv2 = CountVectorizer(stop_words= 'english',\n",
    "                        max_df=.98,\n",
    "                        max_features = 3000,\n",
    "                        min_df = 5,\n",
    "                        ngram_range = (1,2))\n",
    "\n",
    "sleep_vec = cv2.fit_transform(sleep['fulltext'])\n",
    "vec_sleep = pd.DataFrame(sleep_vec.toarray(), columns = cv2.get_feature_names())"
   ]
  },
  {
   "cell_type": "code",
   "execution_count": 34,
   "id": "fe5f3e21",
   "metadata": {
    "scrolled": false
   },
   "outputs": [],
   "source": [
    "slp = vec_sleep.mean().sort_values(ascending = False)"
   ]
  },
  {
   "cell_type": "markdown",
   "id": "3e8ddfdb",
   "metadata": {},
   "source": [
    "r/NoSleep contains many words that are literary and more figurative in nature. This is to be expected as the subreddit is meant for horror fiction."
   ]
  },
  {
   "cell_type": "code",
   "execution_count": 35,
   "id": "f6864d28",
   "metadata": {
    "scrolled": false
   },
   "outputs": [
    {
     "name": "stderr",
     "output_type": "stream",
     "text": [
      "C:\\ProgramData\\Anaconda3\\lib\\site-packages\\seaborn\\_decorators.py:36: FutureWarning: Pass the following variables as keyword args: x, y. From version 0.12, the only valid positional argument will be `data`, and passing other arguments without an explicit keyword will result in an error or misinterpretation.\n",
      "  warnings.warn(\n"
     ]
    },
    {
     "data": {
      "image/png": "[encoded data removed]",
      "text/plain": [
       "<Figure size 720x720 with 1 Axes>"
      ]
     },
     "metadata": {
      "needs_background": "light"
     },
     "output_type": "display_data"
    }
   ],
   "source": [
    "plt.figure(figsize = (10,10))\n",
    "\n",
    "sns.set(font_scale = 2)\n",
    "plt.xlabel('\\nWord Frequency')\n",
    "sns.barplot(slp[:20], slp.index.str.title()[:20], palette = 'rocket').set_title('r/NoSleep');"
   ]
  },
  {
   "cell_type": "code",
   "execution_count": 36,
   "id": "09da9ba5",
   "metadata": {},
   "outputs": [],
   "source": [
    "cv3 = CountVectorizer(stop_words= 'english',\n",
    "                        max_df=.98,\n",
    "                        max_features = 3000,\n",
    "                        min_df = 5,\n",
    "                        ngram_range = (1,2))\n",
    "\n",
    "tale_vec = cv3.fit_transform(tale['fulltext'])\n",
    "vec_tale = pd.DataFrame(tale_vec.toarray(), columns = cv3.get_feature_names())"
   ]
  },
  {
   "cell_type": "code",
   "execution_count": 37,
   "id": "20c388f3",
   "metadata": {
    "scrolled": true
   },
   "outputs": [],
   "source": [
    "work = vec_tale.mean().sort_values(ascending = False)"
   ]
  },
  {
   "cell_type": "markdown",
   "id": "ea5d52da",
   "metadata": {},
   "source": [
    "r/IDontWorkHereLady contains words that deal with retail, stores, and work. They are more concrete in nature. We did not expect to get this many words that are this indicative of the difference between the subreddits. We believed that more emotional wording would be used that would evoke similar feelings of despair in r/IDontWorkHereLady. We were wrong in our assumptions."
   ]
  },
  {
   "cell_type": "code",
   "execution_count": 38,
   "id": "0b3a640f",
   "metadata": {
    "scrolled": false
   },
   "outputs": [
    {
     "name": "stderr",
     "output_type": "stream",
     "text": [
      "C:\\ProgramData\\Anaconda3\\lib\\site-packages\\seaborn\\_decorators.py:36: FutureWarning: Pass the following variables as keyword args: x, y. From version 0.12, the only valid positional argument will be `data`, and passing other arguments without an explicit keyword will result in an error or misinterpretation.\n",
      "  warnings.warn(\n"
     ]
    },
    {
     "data": {
      "image/png": "[encoded data removed]",
      "text/plain": [
       "<Figure size 720x720 with 1 Axes>"
      ]
     },
     "metadata": {},
     "output_type": "display_data"
    }
   ],
   "source": [
    "plt.figure(figsize = (10,10))\n",
    "\n",
    "sns.set(font_scale = 2)\n",
    "plt.xlabel('\\nWord Frequency')\n",
    "sns.barplot(work[:20], work.index.str.title()[:20], palette = 'rocket').set_title('r/IDontWorkHereLady');"
   ]
  },
  {
   "cell_type": "code",
   "execution_count": 43,
   "id": "1f9d6a8d",
   "metadata": {},
   "outputs": [],
   "source": [
    "sleep_notable = vec_sleep.mean() - vec_tale.mean()\n",
    "sleep_notable = sleep_notable.dropna().sort_values(ascending = False)"
   ]
  },
  {
   "cell_type": "markdown",
   "id": "cc425729",
   "metadata": {},
   "source": [
    "We found the top list of words in r/NoSleep compared to r/IDontWorkHereLady by subtracting the mean count of r/NoSleep from r/IDontWorkHereLady. The chart below shows again, the more abstract nature of wordingin r/NoSleep."
   ]
  },
  {
   "cell_type": "code",
   "execution_count": 44,
   "id": "f3f533ff",
   "metadata": {},
   "outputs": [
    {
     "name": "stderr",
     "output_type": "stream",
     "text": [
      "C:\\ProgramData\\Anaconda3\\lib\\site-packages\\seaborn\\_decorators.py:36: FutureWarning: Pass the following variables as keyword args: x, y. From version 0.12, the only valid positional argument will be `data`, and passing other arguments without an explicit keyword will result in an error or misinterpretation.\n",
      "  warnings.warn(\n"
     ]
    },
    {
     "data": {
      "image/png": "[encoded data removed]",
      "text/plain": [
       "<Figure size 720x720 with 1 Axes>"
      ]
     },
     "metadata": {},
     "output_type": "display_data"
    }
   ],
   "source": [
    "plt.figure(figsize = (10,10))\n",
    "\n",
    "sns.set(font_scale = 2)\n",
    "plt.xlabel('\\nWord Frequency Compared to r/IDontWorkHereLady')\n",
    "sns.barplot(sleep_notable[:20], sleep_notable.index.str.title()[:20], palette = 'rocket').set_title('r/NoSleep');"
   ]
  },
  {
   "cell_type": "code",
   "execution_count": 39,
   "id": "64c87c3c",
   "metadata": {},
   "outputs": [],
   "source": [
    "tale_notable = vec_tale.mean() - vec_sleep.mean()\n",
    "tale_notable = tale_notable.dropna().sort_values(ascending = False)"
   ]
  },
  {
   "cell_type": "markdown",
   "id": "693bf8ff",
   "metadata": {},
   "source": [
    "r/IDontWorkHereLady shows an even greater distinction in words related to stores and retail work. We now imagine that the model may score higher in accuracy as the subreddits are actually quite distinct."
   ]
  },
  {
   "cell_type": "code",
   "execution_count": 40,
   "id": "7f8d0ef6",
   "metadata": {
    "scrolled": true
   },
   "outputs": [
    {
     "name": "stderr",
     "output_type": "stream",
     "text": [
      "C:\\ProgramData\\Anaconda3\\lib\\site-packages\\seaborn\\_decorators.py:36: FutureWarning: Pass the following variables as keyword args: x, y. From version 0.12, the only valid positional argument will be `data`, and passing other arguments without an explicit keyword will result in an error or misinterpretation.\n",
      "  warnings.warn(\n"
     ]
    },
    {
     "data": {
      "image/png": "[encoded data removed]",
      "text/plain": [
       "<Figure size 720x720 with 1 Axes>"
      ]
     },
     "metadata": {},
     "output_type": "display_data"
    }
   ],
   "source": [
    "plt.figure(figsize = (10,10))\n",
    "\n",
    "sns.set(font_scale = 2)\n",
    "plt.xlabel('\\nWord Frequency Compared to r/NoSleep')\n",
    "sns.barplot(tale_notable[:20], tale_notable.index.str.title()[:20], palette = 'rocket').set_title('r/IDontWorkHereLady');\n"
   ]
  },
  {
   "cell_type": "markdown",
   "id": "4fb6755c",
   "metadata": {},
   "source": [
    "## Modeling"
   ]
  },
  {
   "cell_type": "code",
   "execution_count": 45,
   "id": "5c21bb42",
   "metadata": {},
   "outputs": [],
   "source": [
    "# empty dataframe to store modeling scores later on\n",
    "table = pd.DataFrame()"
   ]
  },
  {
   "cell_type": "markdown",
   "id": "21b00943",
   "metadata": {},
   "source": [
    "We begin taking 10% sample of our overall cleaned data as we were worried about the resources involved in computation and processing. Originally 5% was tested. We changed it to 10% since we wanted to be certain that the modeling numbers were correct and indeed they were.\n",
    "Our baseline is an even 50% accuracy score as we wanted our modeling to at least outperform random chance."
   ]
  },
  {
   "cell_type": "code",
   "execution_count": 46,
   "id": "59d37aec",
   "metadata": {},
   "outputs": [],
   "source": [
    "# sampling idea credit: https://github.com/gwenrathgeber/subreddit_text_classification/blob/master/code/modeling_and_analysis.ipynb\n",
    "sample = both.sample(frac=.10, random_state=42)\n",
    "\n",
    "X = sample['fulltext']\n",
    "y = sample['subreddit']\n",
    "\n",
    "X_train, X_test, y_train, y_test = train_test_split(X, y, stratify=y, random_state=42)"
   ]
  },
  {
   "cell_type": "code",
   "execution_count": 47,
   "id": "315b4d44",
   "metadata": {
    "scrolled": false
   },
   "outputs": [
    {
     "data": {
      "text/plain": [
       "((1020, 2), (1020, 2))"
      ]
     },
     "execution_count": 47,
     "metadata": {},
     "output_type": "execute_result"
    }
   ],
   "source": [
    "# Baseline accuracy is exactly 50%, as the Both dataframe contains the same amount of posts from both subreddits\n",
    "sample.shape, sample.shape"
   ]
  },
  {
   "cell_type": "markdown",
   "id": "589280b7",
   "metadata": {},
   "source": [
    "## Grid Searched Multinomial Bayes"
   ]
  },
  {
   "cell_type": "markdown",
   "id": "faeebf83",
   "metadata": {},
   "source": [
    "Right off the bat, we started with a Naive Bayes as we knew that model generally did well with smaller data. And, if it did well with the sample, it would certainly do well with even more data. We did not expect for it do this well with a 98.8% accuracy score. Accuracy is the metric we are aiming for, as we are only concerned with pure predictive power."
   ]
  },
  {
   "cell_type": "code",
   "execution_count": 48,
   "id": "17b6b86e",
   "metadata": {},
   "outputs": [],
   "source": [
    "pipe_tvec1 = Pipeline([\n",
    "    ('tvec', TfidfVectorizer()),\n",
    "    ('nb', MultinomialNB() )\n",
    "])\n",
    "\n",
    "pipe_tvec_params1 = {\n",
    "    'tvec__max_features': [2_000, 3_000, 4_000, 5_000],\n",
    "    'tvec__stop_words': [None, 'english'],\n",
    "    'tvec__ngram_range': [(1,1), (1,2)]\n",
    "}\n",
    "\n",
    "gs1 = GridSearchCV(pipe_tvec1, pipe_tvec_params1, cv = 5)"
   ]
  },
  {
   "cell_type": "code",
   "execution_count": 49,
   "id": "5099caae",
   "metadata": {
    "scrolled": true
   },
   "outputs": [
    {
     "name": "stdout",
     "output_type": "stream",
     "text": [
      "Wall time: 1min 58s\n"
     ]
    },
    {
     "data": {
      "text/plain": [
       "GridSearchCV(cv=5,\n",
       "             estimator=Pipeline(steps=[('tvec', TfidfVectorizer()),\n",
       "                                       ('nb', MultinomialNB())]),\n",
       "             param_grid={'tvec__max_features': [2000, 3000, 4000, 5000],\n",
       "                         'tvec__ngram_range': [(1, 1), (1, 2)],\n",
       "                         'tvec__stop_words': [None, 'english']})"
      ]
     },
     "execution_count": 49,
     "metadata": {},
     "output_type": "execute_result"
    }
   ],
   "source": [
    "%%time\n",
    "gs1.fit(X_train, y_train)"
   ]
  },
  {
   "cell_type": "code",
   "execution_count": 50,
   "id": "5e24a33e",
   "metadata": {
    "scrolled": false
   },
   "outputs": [
    {
     "data": {
      "text/plain": [
       "(0.9934640522875817, 0.9882352941176471)"
      ]
     },
     "execution_count": 50,
     "metadata": {},
     "output_type": "execute_result"
    }
   ],
   "source": [
    "gs1.score(X_train, y_train), gs1.score(X_test, y_test)"
   ]
  },
  {
   "cell_type": "code",
   "execution_count": 51,
   "id": "d48e0e24",
   "metadata": {},
   "outputs": [],
   "source": [
    "# adding scores to our table of overall models\n",
    "table.loc['Grid_Naive_Bayes', 'Training Score'] = gs1.score(X_train, y_train)\n",
    "table.loc['Grid_Naive_Bayes', 'Testing Score'] = gs1.score(X_test, y_test)"
   ]
  },
  {
   "cell_type": "markdown",
   "id": "775a067c",
   "metadata": {},
   "source": [
    "Our confusion matrix shows that it mislabeled an r/IDontWorkHereLady post as an r/NoSleep post. Unfortunately we were unable to figure out how to obtain that post."
   ]
  },
  {
   "cell_type": "code",
   "execution_count": 53,
   "id": "d999c51d",
   "metadata": {
    "scrolled": true
   },
   "outputs": [
    {
     "data": {
      "image/png": "[encoded data removed]",
      "text/plain": [
       "<Figure size 432x288 with 2 Axes>"
      ]
     },
     "metadata": {},
     "output_type": "display_data"
    }
   ],
   "source": [
    "plot_confusion_matrix(gs1, X_test, y_test, cmap='Blues');\n",
    "plt.title('Grid Searched Multinomial Naive Bayes')\n",
    "plt.grid(False)"
   ]
  },
  {
   "cell_type": "markdown",
   "id": "62aaf852",
   "metadata": {},
   "source": [
    "## Randomized Search Multinomial Naive Bayes"
   ]
  },
  {
   "cell_type": "markdown",
   "id": "4e9500cc",
   "metadata": {},
   "source": [
    "We wanted to see if the searching algorith would result in a different score but resulted in the same."
   ]
  },
  {
   "cell_type": "code",
   "execution_count": 54,
   "id": "4ecb7d72",
   "metadata": {},
   "outputs": [],
   "source": [
    "rs_pipe = Pipeline([\n",
    "    ('tvec', TfidfVectorizer()),\n",
    "    ('nb', MultinomialNB() )\n",
    "])\n",
    "\n",
    "rs_params = pipe_tvec_params = {\n",
    "    'tvec__max_features': [2_000, 3_000, 4_000, 5_000],\n",
    "    'tvec__stop_words': [None, 'english'],\n",
    "    'tvec__ngram_range': [(1,1), (1,2)]\n",
    "}\n",
    "\n",
    "svc_rs = RandomizedSearchCV(estimator = rs_pipe,\n",
    "                     param_distributions = rs_params,\n",
    "                     scoring = 'accuracy',\n",
    "                     n_iter = 2000,\n",
    "                     n_jobs = -2,\n",
    "                     cv = 5,\n",
    "                     verbose = 1)"
   ]
  },
  {
   "cell_type": "code",
   "execution_count": 55,
   "id": "e25e5ade",
   "metadata": {
    "scrolled": false
   },
   "outputs": [
    {
     "name": "stderr",
     "output_type": "stream",
     "text": [
      "C:\\ProgramData\\Anaconda3\\lib\\site-packages\\sklearn\\model_selection\\_search.py:285: UserWarning: The total space of parameters 16 is smaller than n_iter=2000. Running 16 iterations. For exhaustive searches, use GridSearchCV.\n",
      "  warnings.warn(\n"
     ]
    },
    {
     "name": "stdout",
     "output_type": "stream",
     "text": [
      "Fitting 5 folds for each of 16 candidates, totalling 80 fits\n"
     ]
    },
    {
     "data": {
      "text/plain": [
       "RandomizedSearchCV(cv=5,\n",
       "                   estimator=Pipeline(steps=[('tvec', TfidfVectorizer()),\n",
       "                                             ('nb', MultinomialNB())]),\n",
       "                   n_iter=2000, n_jobs=-2,\n",
       "                   param_distributions={'tvec__max_features': [2000, 3000, 4000,\n",
       "                                                               5000],\n",
       "                                        'tvec__ngram_range': [(1, 1), (1, 2)],\n",
       "                                        'tvec__stop_words': [None, 'english']},\n",
       "                   scoring='accuracy', verbose=1)"
      ]
     },
     "execution_count": 55,
     "metadata": {},
     "output_type": "execute_result"
    }
   ],
   "source": [
    "svc_rs.fit(X_train, y_train)"
   ]
  },
  {
   "cell_type": "code",
   "execution_count": 56,
   "id": "56bcd1b8",
   "metadata": {},
   "outputs": [
    {
     "data": {
      "text/plain": [
       "(0.9934640522875817, 0.9882352941176471)"
      ]
     },
     "execution_count": 56,
     "metadata": {},
     "output_type": "execute_result"
    }
   ],
   "source": [
    "svc_rs.score(X_train, y_train), svc_rs.score(X_test, y_test)"
   ]
  },
  {
   "cell_type": "code",
   "execution_count": 57,
   "id": "6b8de9b6",
   "metadata": {},
   "outputs": [],
   "source": [
    "# adding scores to our table of overall models\n",
    "table.loc['Rand_Naive_Bayes', 'Training Score'] = svc_rs.score(X_train, y_train)\n",
    "table.loc['Rand_Naive_Bayes', 'Testing Score'] = svc_rs.score(X_test, y_test)"
   ]
  },
  {
   "cell_type": "code",
   "execution_count": 58,
   "id": "ed9758f8",
   "metadata": {
    "scrolled": true
   },
   "outputs": [
    {
     "data": {
      "image/png": "[encoded data removed]",
      "text/plain": [
       "<Figure size 432x288 with 2 Axes>"
      ]
     },
     "metadata": {},
     "output_type": "display_data"
    }
   ],
   "source": [
    "plot_confusion_matrix(svc_rs, X_test, y_test, cmap='Blues');\n",
    "plt.title('Randomized Search Multinomial Naive Bayes')\n",
    "plt.grid(False)"
   ]
  },
  {
   "cell_type": "markdown",
   "id": "45122137",
   "metadata": {},
   "source": [
    "## Ridge Logistic Regression"
   ]
  },
  {
   "cell_type": "markdown",
   "id": "2774c3fe",
   "metadata": {},
   "source": [
    "Next was a Ridge Regression. As is typical with a Ridge, our model is overfit but it did quite well in testing accuracy. Our Naive Bayes is still better since it is not as overfit."
   ]
  },
  {
   "cell_type": "code",
   "execution_count": 60,
   "id": "4abfe629",
   "metadata": {},
   "outputs": [],
   "source": [
    "pipe_logreg = Pipeline([\n",
    "    ('tvec', TfidfVectorizer()),\n",
    "    ('logreg', LogisticRegression(penalty = 'none') )\n",
    "])\n",
    "\n",
    "pipe_logreg_params = {\n",
    "    'tvec__max_features': [2_000, 3_000, 4_000, 5_000],\n",
    "    'tvec__stop_words': [None, 'english'],\n",
    "    'tvec__ngram_range': [(1,1), (1,2)]\n",
    "}\n",
    "\n",
    "gslog = GridSearchCV(pipe_logreg, pipe_logreg_params, cv = 5)"
   ]
  },
  {
   "cell_type": "code",
   "execution_count": 61,
   "id": "a22b7d94",
   "metadata": {},
   "outputs": [
    {
     "name": "stdout",
     "output_type": "stream",
     "text": [
      "Wall time: 1min 59s\n"
     ]
    },
    {
     "data": {
      "text/plain": [
       "GridSearchCV(cv=5,\n",
       "             estimator=Pipeline(steps=[('tvec', TfidfVectorizer()),\n",
       "                                       ('logreg',\n",
       "                                        LogisticRegression(penalty='none'))]),\n",
       "             param_grid={'tvec__max_features': [2000, 3000, 4000, 5000],\n",
       "                         'tvec__ngram_range': [(1, 1), (1, 2)],\n",
       "                         'tvec__stop_words': [None, 'english']})"
      ]
     },
     "execution_count": 61,
     "metadata": {},
     "output_type": "execute_result"
    }
   ],
   "source": [
    "%%time\n",
    "gslog.fit(X_train, y_train)"
   ]
  },
  {
   "cell_type": "code",
   "execution_count": 62,
   "id": "10e01f2d",
   "metadata": {},
   "outputs": [
    {
     "data": {
      "text/plain": [
       "(1.0, 0.984313725490196)"
      ]
     },
     "execution_count": 62,
     "metadata": {},
     "output_type": "execute_result"
    }
   ],
   "source": [
    "gslog.score(X_train, y_train), gslog.score(X_test, y_test)"
   ]
  },
  {
   "cell_type": "code",
   "execution_count": 63,
   "id": "a3795d41",
   "metadata": {},
   "outputs": [],
   "source": [
    "# adding scores to our table of overall models\n",
    "table.loc['Logistic_Regression', 'Training Score'] = gslog.score(X_train, y_train)\n",
    "table.loc['Logistic_Regression', 'Testing Score'] = gslog.score(X_test, y_test)"
   ]
  },
  {
   "cell_type": "code",
   "execution_count": 64,
   "id": "95df4976",
   "metadata": {
    "scrolled": true
   },
   "outputs": [
    {
     "data": {
      "image/png": "[encoded data removed]",
      "text/plain": [
       "<Figure size 432x288 with 2 Axes>"
      ]
     },
     "metadata": {},
     "output_type": "display_data"
    }
   ],
   "source": [
    "plot_confusion_matrix(gslog, X_test, y_test, cmap='Blues');\n",
    "plt.title('Gridsearch Logistic Regression')\n",
    "plt.grid(False)"
   ]
  },
  {
   "cell_type": "markdown",
   "id": "5c0dae35",
   "metadata": {},
   "source": [
    "## Lasso"
   ]
  },
  {
   "cell_type": "markdown",
   "id": "b8dd257b",
   "metadata": {},
   "source": [
    "With the Lasso, we hoped it hone in on the overfit aspect of our Ridge because of its regularizing features. However, we ended up scoring lower on our testing data. This may in part be due to scaling."
   ]
  },
  {
   "cell_type": "code",
   "execution_count": 65,
   "id": "bd7bbd03",
   "metadata": {},
   "outputs": [],
   "source": [
    "pipe_lasso = Pipeline([\n",
    "    ('tvec', TfidfVectorizer()),\n",
    "    ('ss', StandardScaler(with_mean = False)),\n",
    "    ('lasso', LogisticRegression(penalty = 'l1', solver = 'liblinear') )\n",
    "])\n",
    "\n",
    "pipe_lasso_params = {\n",
    "    'tvec__max_features': [2_000, 3_000, 4_000, 5_000],\n",
    "    'tvec__stop_words': [None, 'english'],\n",
    "    'tvec__ngram_range': [(1,1), (1,2)]\n",
    "}\n",
    "\n",
    "gslasso = GridSearchCV(pipe_lasso, pipe_lasso_params, cv = 5)"
   ]
  },
  {
   "cell_type": "code",
   "execution_count": 67,
   "id": "df1cb31f",
   "metadata": {},
   "outputs": [
    {
     "data": {
      "text/plain": [
       "GridSearchCV(cv=5,\n",
       "             estimator=Pipeline(steps=[('tvec', TfidfVectorizer()),\n",
       "                                       ('ss', StandardScaler(with_mean=False)),\n",
       "                                       ('lasso',\n",
       "                                        LogisticRegression(penalty='l1',\n",
       "                                                           solver='liblinear'))]),\n",
       "             param_grid={'tvec__max_features': [2000, 3000, 4000, 5000],\n",
       "                         'tvec__ngram_range': [(1, 1), (1, 2)],\n",
       "                         'tvec__stop_words': [None, 'english']})"
      ]
     },
     "execution_count": 67,
     "metadata": {},
     "output_type": "execute_result"
    }
   ],
   "source": [
    "gslasso.fit(X_train, y_train)"
   ]
  },
  {
   "cell_type": "code",
   "execution_count": 68,
   "id": "3c09d93d",
   "metadata": {},
   "outputs": [
    {
     "data": {
      "text/plain": [
       "(1.0, 0.9725490196078431)"
      ]
     },
     "execution_count": 68,
     "metadata": {},
     "output_type": "execute_result"
    }
   ],
   "source": [
    "gslasso.score(X_train, y_train), gslasso.score(X_test, y_test)"
   ]
  },
  {
   "cell_type": "code",
   "execution_count": 69,
   "id": "ef3e3806",
   "metadata": {},
   "outputs": [],
   "source": [
    "# adding scores to our table of overall models\n",
    "table.loc['Lasso', 'Training Score'] = gslasso.score(X_train, y_train)\n",
    "table.loc['Lasso', 'Testing Score'] = gslasso.score(X_test, y_test)"
   ]
  },
  {
   "cell_type": "markdown",
   "id": "09ffc41f",
   "metadata": {},
   "source": [
    "## TFIDF Random Forest Classifier"
   ]
  },
  {
   "cell_type": "markdown",
   "id": "7c1b6a64",
   "metadata": {},
   "source": [
    "We wanted to try a Random Forest Classifier just for fun even though we know the potential for overfitting. Unsurprisingly, it overfit and performed as well as our Lasso."
   ]
  },
  {
   "cell_type": "code",
   "execution_count": 79,
   "id": "718a381c",
   "metadata": {},
   "outputs": [],
   "source": [
    "pipe_forest = Pipeline([\n",
    "    ('tvec', TfidfVectorizer()),\n",
    "    ('rfc', RandomForestClassifier() )\n",
    "])\n",
    "\n",
    "pipe_forest_params = {\n",
    "    'tvec__max_features': [2_000, 3_000, 4_000, 5_000],\n",
    "    'tvec__stop_words': [None, 'english'],\n",
    "    'tvec__ngram_range': [(1,1), (1,2)]\n",
    "}\n",
    "\n",
    "gs2 = GridSearchCV(pipe_forest, pipe_forest_params, cv = 5)"
   ]
  },
  {
   "cell_type": "code",
   "execution_count": 80,
   "id": "214f20f0",
   "metadata": {},
   "outputs": [
    {
     "name": "stdout",
     "output_type": "stream",
     "text": [
      "Wall time: 2min 30s\n"
     ]
    },
    {
     "data": {
      "text/plain": [
       "GridSearchCV(cv=5,\n",
       "             estimator=Pipeline(steps=[('tvec', TfidfVectorizer()),\n",
       "                                       ('rfc', RandomForestClassifier())]),\n",
       "             param_grid={'tvec__max_features': [2000, 3000, 4000, 5000],\n",
       "                         'tvec__ngram_range': [(1, 1), (1, 2)],\n",
       "                         'tvec__stop_words': [None, 'english']})"
      ]
     },
     "execution_count": 80,
     "metadata": {},
     "output_type": "execute_result"
    }
   ],
   "source": [
    "%%time\n",
    "gs2.fit(X_train, y_train)"
   ]
  },
  {
   "cell_type": "code",
   "execution_count": 81,
   "id": "15a17db7",
   "metadata": {
    "scrolled": true
   },
   "outputs": [
    {
     "data": {
      "text/plain": [
       "(1.0, 0.9764705882352941)"
      ]
     },
     "execution_count": 81,
     "metadata": {},
     "output_type": "execute_result"
    }
   ],
   "source": [
    "gs2.score(X_train, y_train), gs2.score(X_test, y_test)"
   ]
  },
  {
   "cell_type": "code",
   "execution_count": 82,
   "id": "61784c95",
   "metadata": {},
   "outputs": [],
   "source": [
    "# adding scores to our table of overall models\n",
    "table.loc['TFIDF_Random_Forest', 'Training Score'] = gs2.score(X_train, y_train)\n",
    "table.loc['TFIDF_Random_Forest', 'Testing Score'] = gs2.score(X_test, y_test)"
   ]
  },
  {
   "cell_type": "code",
   "execution_count": 83,
   "id": "fe59ceb6",
   "metadata": {},
   "outputs": [
    {
     "data": {
      "image/png": "[encoded data removed]",
      "text/plain": [
       "<Figure size 432x288 with 2 Axes>"
      ]
     },
     "metadata": {},
     "output_type": "display_data"
    }
   ],
   "source": [
    "plot_confusion_matrix(gs2, X_test, y_test, cmap='bone');\n",
    "plt.title('TFIDF Random Forest Classifier')\n",
    "plt.grid(False)"
   ]
  },
  {
   "cell_type": "markdown",
   "id": "294954e2",
   "metadata": {},
   "source": [
    "## Count Vectorized Random Forest Classifier"
   ]
  },
  {
   "cell_type": "markdown",
   "id": "de585b0c",
   "metadata": {},
   "source": [
    "We were curious about the effect of Count Vectorizing versus TFIDF and wanted to see if there was any difference. The Count Vectorized model did worse in testing accuracy but this could be due to the random nature of the Random Forest Classifier and not the Count Vectorizer. More would have to be done to determine whether or not there is a substantive difference. But, overall, our Naive Bayes performed the best."
   ]
  },
  {
   "cell_type": "code",
   "execution_count": 84,
   "id": "1f8c9e65",
   "metadata": {},
   "outputs": [],
   "source": [
    "cvec = CountVectorizer(stop_words = 'english')\n",
    "\n",
    "X_train_cv = cvec.fit_transform(X_train)\n",
    "X_test_cv = cvec.transform(X_test)"
   ]
  },
  {
   "cell_type": "code",
   "execution_count": 85,
   "id": "1b83a2a1",
   "metadata": {},
   "outputs": [
    {
     "data": {
      "text/plain": [
       "RandomForestClassifier()"
      ]
     },
     "execution_count": 85,
     "metadata": {},
     "output_type": "execute_result"
    }
   ],
   "source": [
    "rfc = RandomForestClassifier()\n",
    "\n",
    "rfc.fit(X_train_cv, y_train)"
   ]
  },
  {
   "cell_type": "code",
   "execution_count": 86,
   "id": "beb2676b",
   "metadata": {
    "scrolled": true
   },
   "outputs": [
    {
     "data": {
      "text/plain": [
       "(1.0, 0.9529411764705882)"
      ]
     },
     "execution_count": 86,
     "metadata": {},
     "output_type": "execute_result"
    }
   ],
   "source": [
    "rfc.score(X_train_cv, y_train), rfc.score(X_test_cv, y_test)"
   ]
  },
  {
   "cell_type": "code",
   "execution_count": 87,
   "id": "25a85217",
   "metadata": {},
   "outputs": [],
   "source": [
    "# adding scores to our table of overall models\n",
    "table.loc['CVec_Random_Forest', 'Training Score'] = rfc.score(X_train_cv, y_train)\n",
    "table.loc['CVec_Random_Forest', 'Testing Score'] = rfc.score(X_test_cv, y_test)"
   ]
  },
  {
   "cell_type": "code",
   "execution_count": 88,
   "id": "781d6a27",
   "metadata": {
    "scrolled": true
   },
   "outputs": [
    {
     "data": {
      "image/png": "[encoded data removed]",
      "text/plain": [
       "<Figure size 432x288 with 2 Axes>"
      ]
     },
     "metadata": {},
     "output_type": "display_data"
    }
   ],
   "source": [
    "plot_confusion_matrix(rfc, X_test_cv, y_test, cmap='copper');\n",
    "plt.title('Count Vectorized Random Forest Classifier')\n",
    "plt.grid(False)"
   ]
  },
  {
   "cell_type": "markdown",
   "id": "052f4987",
   "metadata": {},
   "source": [
    "## Conclusion"
   ]
  },
  {
   "cell_type": "code",
   "execution_count": 89,
   "id": "f9a8a382",
   "metadata": {},
   "outputs": [
    {
     "data": {
      "text/html": [
       "<div>\n",
       "<style scoped>\n",
       "    .dataframe tbody tr th:only-of-type {\n",
       "        vertical-align: middle;\n",
       "    }\n",
       "\n",
       "    .dataframe tbody tr th {\n",
       "        vertical-align: top;\n",
       "    }\n",
       "\n",
       "    .dataframe thead th {\n",
       "        text-align: right;\n",
       "    }\n",
       "</style>\n",
       "<table border=\"1\" class=\"dataframe\">\n",
       "  <thead>\n",
       "    <tr style=\"text-align: right;\">\n",
       "      <th></th>\n",
       "      <th>Training Score</th>\n",
       "      <th>Testing Score</th>\n",
       "    </tr>\n",
       "  </thead>\n",
       "  <tbody>\n",
       "    <tr>\n",
       "      <th>Grid_Naive_Bayes</th>\n",
       "      <td>0.993464</td>\n",
       "      <td>0.988235</td>\n",
       "    </tr>\n",
       "    <tr>\n",
       "      <th>Rand_Naive_Bayes</th>\n",
       "      <td>0.993464</td>\n",
       "      <td>0.988235</td>\n",
       "    </tr>\n",
       "    <tr>\n",
       "      <th>Logistic_Regression</th>\n",
       "      <td>1.000000</td>\n",
       "      <td>0.984314</td>\n",
       "    </tr>\n",
       "    <tr>\n",
       "      <th>Lasso</th>\n",
       "      <td>1.000000</td>\n",
       "      <td>0.972549</td>\n",
       "    </tr>\n",
       "    <tr>\n",
       "      <th>TFIDF_Random_Forest</th>\n",
       "      <td>1.000000</td>\n",
       "      <td>0.976471</td>\n",
       "    </tr>\n",
       "    <tr>\n",
       "      <th>CVec_Random_Forest</th>\n",
       "      <td>1.000000</td>\n",
       "      <td>0.952941</td>\n",
       "    </tr>\n",
       "  </tbody>\n",
       "</table>\n",
       "</div>"
      ],
      "text/plain": [
       "                     Training Score  Testing Score\n",
       "Grid_Naive_Bayes           0.993464       0.988235\n",
       "Rand_Naive_Bayes           0.993464       0.988235\n",
       "Logistic_Regression        1.000000       0.984314\n",
       "Lasso                      1.000000       0.972549\n",
       "TFIDF_Random_Forest        1.000000       0.976471\n",
       "CVec_Random_Forest         1.000000       0.952941"
      ]
     },
     "execution_count": 89,
     "metadata": {},
     "output_type": "execute_result"
    }
   ],
   "source": [
    "table"
   ]
  },
  {
   "cell_type": "markdown",
   "id": "9af2113a",
   "metadata": {},
   "source": [
    "Our Multinomial Naive Bayes models, with an accuracy score of 98.8%, were the best at predicting where a post came from. They were the least overfit, albeit by less than a single percent, than the other models we tested. We believe accuracy can be improved, but would take a considerable amount of time and resources for a very miniscule increase in percentage. A company could use our model to automatically identify which subreddit a post came from, but there are other cost-effective ways that do not involve machine learning."
   ]
  }
 ],
 "metadata": {
  "kernelspec": {
   "display_name": "Python 3",
   "language": "python",
   "name": "python3"
  },
  "language_info": {
   "codemirror_mode": {
    "name": "ipython",
    "version": 3
   },
   "file_extension": ".py",
   "mimetype": "text/x-python",
   "name": "python",
   "nbconvert_exporter": "python",
   "pygments_lexer": "ipython3",
   "version": "3.8.8"
  }
 },
 "nbformat": 4,
 "nbformat_minor": 5
}
